{
 "cells": [
  {
   "cell_type": "code",
   "execution_count": 1,
   "metadata": {},
   "outputs": [],
   "source": [
    "import cv2\n",
    "import numpy as np\n",
    "import os.path\n",
    "from glob import glob\n",
    "from matplotlib.pyplot import imshow"
   ]
  },
  {
   "cell_type": "code",
   "execution_count": 2,
   "metadata": {},
   "outputs": [
    {
     "name": "stdout",
     "output_type": "stream",
     "text": [
      "No Device found.\n"
     ]
    }
   ],
   "source": [
    "# dev_name = ''\n",
    "dir_name = '\\\\\\\\SFTR-MATE30\\\\Gallery\\\\Screenshots'\n",
    "\n",
    "if os.path.exists(dir_name):\n",
    "    file_dirs = glob(dir_name+'\\\\*')\n",
    "    file_dir = file_dirs[0]\n",
    "    img = cv2.imdecode(np.fromfile(file_dir,dtype=np.uint8),-1)\n",
    "    cv2.imshow('H',img)\n",
    "    cv2.waitKey(0)\n",
    "else:\n",
    "    print(\"No Device found.\")"
   ]
  },
  {
   "cell_type": "code",
   "execution_count": 9,
   "metadata": {},
   "outputs": [
    {
     "name": "stdout",
     "output_type": "stream",
     "text": [
      "[' 驱动器 E 中的卷是 Storage\\n', ' 卷的序列号是 D871-9423\\n', '\\n', ' e:\\\\CodeTestFile\\\\comprehensive-coding\\\\miscellaneous 的目录\\n', '\\n', '2022/12/30  10:17    <DIR>          .\\n', '2022/12/30  10:17    <DIR>          ..\\n', '2022/11/11  21:09             1,800 apschedule.py\\n', '2022/11/11  22:02             1,273 apscheduler.ipynb\\n', '2022/12/28  19:54             3,632 calculate_progress_bar.py\\n', '2022/11/28  08:23             1,650 class_managment.ipynb\\n', '2022/12/28  13:42    <DIR>          Draft\\n', '2022/12/27  12:58               794 test.py\\n', '2022/12/30  10:17                 0 WLANtransfer.ipynb\\n', '2022/12/30  10:51             1,268 WLANtransfer.py\\n', '               7 个文件         10,417 字节\\n', '               3 个目录 105,163,042,816 可用字节\\n']\n"
     ]
    }
   ],
   "source": [
    "ret = os.popen('dir')\n",
    "print(ret.readlines())"
   ]
  }
 ],
 "metadata": {
  "kernelspec": {
   "display_name": "Python 3.9.13 ('opencv')",
   "language": "python",
   "name": "python3"
  },
  "language_info": {
   "codemirror_mode": {
    "name": "ipython",
    "version": 3
   },
   "file_extension": ".py",
   "mimetype": "text/x-python",
   "name": "python",
   "nbconvert_exporter": "python",
   "pygments_lexer": "ipython3",
   "version": "3.9.13"
  },
  "orig_nbformat": 4,
  "vscode": {
   "interpreter": {
    "hash": "e3699e1bf18e69dd669bbfbbb404e04d8d8cc9fb31628f3ae76f99054b7c56c1"
   }
  }
 },
 "nbformat": 4,
 "nbformat_minor": 2
}
